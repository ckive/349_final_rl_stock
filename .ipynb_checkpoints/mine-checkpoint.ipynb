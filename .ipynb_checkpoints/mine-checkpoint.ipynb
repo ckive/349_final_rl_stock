{
 "cells": [
  {
   "cell_type": "code",
   "execution_count": 1,
   "id": "41795f33",
   "metadata": {},
   "outputs": [
    {
     "name": "stdout",
     "output_type": "stream",
     "text": [
      "WARNING:tensorflow:\n",
      "The TensorFlow contrib module will not be included in TensorFlow 2.0.\n",
      "For more information, please see:\n",
      "  * https://github.com/tensorflow/community/blob/master/rfcs/20180907-contrib-sunset.md\n",
      "  * https://github.com/tensorflow/addons\n",
      "  * https://github.com/tensorflow/io (for I/O related ops)\n",
      "If you depend on functionality not listed there, please file an issue.\n",
      "\n"
     ]
    },
    {
     "name": "stderr",
     "output_type": "stream",
     "text": [
      "/home/m73/miniconda3/envs/py37/lib/python3.7/site-packages/stable_baselines/__init__.py:33: UserWarning: stable-baselines is in maintenance mode, please use [Stable-Baselines3 (SB3)](https://github.com/DLR-RM/stable-baselines3) for an up-to-date version. You can find a [migration guide](https://stable-baselines3.readthedocs.io/en/master/guide/migration.html) in SB3 documentation.\n",
      "  \"stable-baselines is in maintenance mode, please use [Stable-Baselines3 (SB3)](https://github.com/DLR-RM/stable-baselines3) for an up-to-date version. You can find a [migration guide](https://stable-baselines3.readthedocs.io/en/master/guide/migration.html) in SB3 documentation.\"\n"
     ]
    }
   ],
   "source": [
    "import numpy as np\n",
    "import yfinance as yf\n",
    "import pandas as pd\n",
    "import gym\n",
    "import gym_anytrading\n",
    "from gym_anytrading.envs import StocksEnv\n",
    "from finta import TA\n",
    "import matplotlib.pyplot as plt\n",
    "import stable_baselines as sb\n",
    "from stable_baselines.common.vec_env import DummyVecEnv\n",
    "from stable_baselines import A2C, PPO2, ACER, DQN, DDPG\n",
    "import quantstats as qs"
   ]
  },
  {
   "cell_type": "code",
   "execution_count": 2,
   "id": "38cee27e",
   "metadata": {},
   "outputs": [],
   "source": [
    "def get_metrics(returns):\n",
    "    metrics = {\"ex_returns\" : qs.stats.expected_return(returns),\n",
    "               \"best\" : qs.stats.best(returns),\n",
    "               \"worst\" : qs.stats.worst(returns),\n",
    "               \"avg_return\" : qs.stats.avg_return(returns),\n",
    "               \"vola\" : qs.stats.volatility(returns),\n",
    "               \"sharpe\" : qs.stats.sharpe(returns),\n",
    "               \"rar\" : qs.stats.rar(returns), #risk-adjusted-rate of return,\n",
    "               \"ror\" : qs.stats.ror(returns), #risk of ruin: Prob(lose everything),\n",
    "               \"moly_returns\" : qs.stats.monthly_returns(returns)\n",
    "              }\n",
    "    \n",
    "    return metrics"
   ]
  },
  {
   "cell_type": "code",
   "execution_count": 3,
   "id": "0f9d5a34",
   "metadata": {},
   "outputs": [],
   "source": [
    "def pathify(stock, rlAlgo, policy, days, steps, kind):\n",
    "    #generate\n",
    "    fname = str(stock) + \"_\" + str(rlAlgo) + \"_\" + str(policy) + \"_\" + str(days) \\\n",
    "    + \"_\" + str(steps) + \"_\" + str(kind)\n",
    "    return fname"
   ]
  },
  {
   "cell_type": "code",
   "execution_count": 4,
   "id": "b41fc9e9",
   "metadata": {},
   "outputs": [
    {
     "name": "stdout",
     "output_type": "stream",
     "text": [
      "[*********************100%***********************]  1 of 1 completed\n",
      "[*********************100%***********************]  1 of 1 completed\n",
      "[*********************100%***********************]  1 of 1 completed\n"
     ]
    }
   ],
   "source": [
    "#Exploration on 3 stocks from 2010-01-01 to 2019-12-31\n",
    "starts = \"2010-01-01\"\n",
    "ends = \"2019-12-31\"\n",
    "amd = yf.download(\"amd\", starts, ends)\n",
    "intc = yf.download(\"intc\", starts, ends)\n",
    "nvda = yf.download(\"nvda\", starts, ends)"
   ]
  },
  {
   "cell_type": "code",
   "execution_count": 5,
   "id": "af19d6b4",
   "metadata": {},
   "outputs": [],
   "source": [
    "stocks = [amd, intc, nvda]"
   ]
  },
  {
   "cell_type": "markdown",
   "id": "941df41b",
   "metadata": {},
   "source": [
    "## Custom indicators"
   ]
  },
  {
   "cell_type": "code",
   "execution_count": 6,
   "id": "995afaad",
   "metadata": {
    "scrolled": true
   },
   "outputs": [],
   "source": [
    "#SMA, RSI, OBV indicators\n",
    "for df in stocks:\n",
    "    df['SMA'] = TA.SMA(df, 10) #<- of 10 days\n",
    "    df['RSI'] = TA.RSI(df)\n",
    "    df['OBV'] = TA.OBV(df)\n",
    "    df.fillna(0, inplace=True)"
   ]
  },
  {
   "cell_type": "code",
   "execution_count": 7,
   "id": "f419f8f2",
   "metadata": {},
   "outputs": [
    {
     "data": {
      "text/html": [
       "<div>\n",
       "<style scoped>\n",
       "    .dataframe tbody tr th:only-of-type {\n",
       "        vertical-align: middle;\n",
       "    }\n",
       "\n",
       "    .dataframe tbody tr th {\n",
       "        vertical-align: top;\n",
       "    }\n",
       "\n",
       "    .dataframe thead th {\n",
       "        text-align: right;\n",
       "    }\n",
       "</style>\n",
       "<table border=\"1\" class=\"dataframe\">\n",
       "  <thead>\n",
       "    <tr style=\"text-align: right;\">\n",
       "      <th></th>\n",
       "      <th>Open</th>\n",
       "      <th>High</th>\n",
       "      <th>Low</th>\n",
       "      <th>Close</th>\n",
       "      <th>Adj Close</th>\n",
       "      <th>Volume</th>\n",
       "      <th>SMA</th>\n",
       "      <th>RSI</th>\n",
       "      <th>OBV</th>\n",
       "    </tr>\n",
       "    <tr>\n",
       "      <th>Date</th>\n",
       "      <th></th>\n",
       "      <th></th>\n",
       "      <th></th>\n",
       "      <th></th>\n",
       "      <th></th>\n",
       "      <th></th>\n",
       "      <th></th>\n",
       "      <th></th>\n",
       "      <th></th>\n",
       "    </tr>\n",
       "  </thead>\n",
       "  <tbody>\n",
       "    <tr>\n",
       "      <th>2009-12-31</th>\n",
       "      <td>9.75</td>\n",
       "      <td>9.77</td>\n",
       "      <td>9.63</td>\n",
       "      <td>9.68</td>\n",
       "      <td>9.68</td>\n",
       "      <td>9396500</td>\n",
       "      <td>0.0</td>\n",
       "      <td>0.000000</td>\n",
       "      <td>0.0</td>\n",
       "    </tr>\n",
       "    <tr>\n",
       "      <th>2010-01-04</th>\n",
       "      <td>9.79</td>\n",
       "      <td>9.90</td>\n",
       "      <td>9.68</td>\n",
       "      <td>9.70</td>\n",
       "      <td>9.70</td>\n",
       "      <td>18748700</td>\n",
       "      <td>0.0</td>\n",
       "      <td>100.000000</td>\n",
       "      <td>18748700.0</td>\n",
       "    </tr>\n",
       "    <tr>\n",
       "      <th>2010-01-05</th>\n",
       "      <td>9.71</td>\n",
       "      <td>9.90</td>\n",
       "      <td>9.68</td>\n",
       "      <td>9.71</td>\n",
       "      <td>9.71</td>\n",
       "      <td>22145700</td>\n",
       "      <td>0.0</td>\n",
       "      <td>100.000000</td>\n",
       "      <td>40894400.0</td>\n",
       "    </tr>\n",
       "    <tr>\n",
       "      <th>2010-01-06</th>\n",
       "      <td>9.68</td>\n",
       "      <td>9.76</td>\n",
       "      <td>9.55</td>\n",
       "      <td>9.57</td>\n",
       "      <td>9.57</td>\n",
       "      <td>18643400</td>\n",
       "      <td>0.0</td>\n",
       "      <td>15.931231</td>\n",
       "      <td>22251000.0</td>\n",
       "    </tr>\n",
       "    <tr>\n",
       "      <th>2010-01-07</th>\n",
       "      <td>9.51</td>\n",
       "      <td>9.55</td>\n",
       "      <td>9.18</td>\n",
       "      <td>9.47</td>\n",
       "      <td>9.47</td>\n",
       "      <td>26806800</td>\n",
       "      <td>0.0</td>\n",
       "      <td>9.674773</td>\n",
       "      <td>-4555800.0</td>\n",
       "    </tr>\n",
       "  </tbody>\n",
       "</table>\n",
       "</div>"
      ],
      "text/plain": [
       "            Open  High   Low  Close  Adj Close    Volume  SMA         RSI  \\\n",
       "Date                                                                        \n",
       "2009-12-31  9.75  9.77  9.63   9.68       9.68   9396500  0.0    0.000000   \n",
       "2010-01-04  9.79  9.90  9.68   9.70       9.70  18748700  0.0  100.000000   \n",
       "2010-01-05  9.71  9.90  9.68   9.71       9.71  22145700  0.0  100.000000   \n",
       "2010-01-06  9.68  9.76  9.55   9.57       9.57  18643400  0.0   15.931231   \n",
       "2010-01-07  9.51  9.55  9.18   9.47       9.47  26806800  0.0    9.674773   \n",
       "\n",
       "                   OBV  \n",
       "Date                    \n",
       "2009-12-31         0.0  \n",
       "2010-01-04  18748700.0  \n",
       "2010-01-05  40894400.0  \n",
       "2010-01-06  22251000.0  \n",
       "2010-01-07  -4555800.0  "
      ]
     },
     "execution_count": 7,
     "metadata": {},
     "output_type": "execute_result"
    }
   ],
   "source": [
    "#sanity check\n",
    "amd.head()"
   ]
  },
  {
   "cell_type": "markdown",
   "id": "8a705453",
   "metadata": {},
   "source": [
    "### Create custom env with more signal features"
   ]
  },
  {
   "cell_type": "code",
   "execution_count": 8,
   "id": "ee354629",
   "metadata": {},
   "outputs": [],
   "source": [
    "def add_signals(env):\n",
    "    start = env.frame_bound[0] - env.window_size\n",
    "    end = env.frame_bound[1]\n",
    "    prices = env.df.loc[:, 'Low'].to_numpy()[start:end]\n",
    "    signal_features = env.df.loc[:, ['Low', 'Volume','SMA', 'RSI', 'OBV']].to_numpy()[start:end]\n",
    "    return prices, signal_features"
   ]
  },
  {
   "cell_type": "code",
   "execution_count": 9,
   "id": "7340aa7b",
   "metadata": {},
   "outputs": [],
   "source": [
    "class MyCustomEnv(StocksEnv):\n",
    "    _process_data = add_signals"
   ]
  },
  {
   "cell_type": "code",
   "execution_count": 10,
   "id": "1abaef52",
   "metadata": {},
   "outputs": [],
   "source": [
    "# will have access to 10 previous data\n",
    "window_size = 10\n",
    "start_index = window_size\n",
    "#end_index = 365, 1825, 2516"
   ]
  },
  {
   "cell_type": "markdown",
   "id": "b48d3b55",
   "metadata": {},
   "source": [
    "## AMD: learn using 300, 1000,  1500 days of trading with 100k, 1Mn steps and evaluated on next year (301-552, 1001-1252, 1501-1752) (252 trading days/yr)"
   ]
  },
  {
   "cell_type": "code",
   "execution_count": 11,
   "id": "76c8182e",
   "metadata": {},
   "outputs": [],
   "source": [
    "bucket = np.zeros((3, 2, 3, 2))\n",
    "dtype=[(\"stock\", 'S4'),(\"algo\", 'S4'), (\"days\", 'i4'), (\"\")]\n",
    "bucket = np.array([()],)"
   ]
  },
  {
   "cell_type": "markdown",
   "id": "8739a7e6",
   "metadata": {},
   "source": [
    "### using A2C RL algo with MlpLstm policy train"
   ]
  },
  {
   "cell_type": "code",
   "execution_count": 12,
   "id": "f3737654",
   "metadata": {},
   "outputs": [],
   "source": [
    "#env dependencies\n",
    "from stable_baselines.deepq.policies import MlpPolicy as dqnpol\n",
    "from stable_baselines.ddpg.policies import MlpPolicy as ddpgpol\n",
    "from stable_baselines.common.noise import NormalActionNoise, OrnsteinUhlenbeckActionNoise, AdaptiveParamNoiseSpec\n",
    "\n",
    "from stable_baselines.common.policies import MlpLstmPolicy"
   ]
  },
  {
   "cell_type": "code",
   "execution_count": 13,
   "id": "d95e9209",
   "metadata": {},
   "outputs": [],
   "source": [
    "algos = [lambda env, pol: A2C(pol, env, verbose=0),\n",
    "         #lambda env: PPO2('MlpLstmPolicy', env, verbose=0),\n",
    "         #lambda env: ACER('MlpLstmPolicy', env, verbose=0),\n",
    "         lambda env, pol: DQN(pol, env, verbose=0),\n",
    "         #lambda env, pol, param, action: DDPG(pol, env, verbose=0, param_noise=param_noise, action_noise=action_noise)\n",
    "        ]"
   ]
  },
  {
   "cell_type": "code",
   "execution_count": 14,
   "id": "6d43794d",
   "metadata": {},
   "outputs": [
    {
     "name": "stdout",
     "output_type": "stream",
     "text": [
      "WARNING:tensorflow:From /home/m73/miniconda3/envs/py37/lib/python3.7/site-packages/stable_baselines/common/tf_util.py:191: The name tf.ConfigProto is deprecated. Please use tf.compat.v1.ConfigProto instead.\n",
      "\n",
      "WARNING:tensorflow:From /home/m73/miniconda3/envs/py37/lib/python3.7/site-packages/stable_baselines/common/tf_util.py:200: The name tf.Session is deprecated. Please use tf.compat.v1.Session instead.\n",
      "\n",
      "WARNING:tensorflow:From /home/m73/miniconda3/envs/py37/lib/python3.7/site-packages/stable_baselines/common/policies.py:116: The name tf.variable_scope is deprecated. Please use tf.compat.v1.variable_scope instead.\n",
      "\n",
      "WARNING:tensorflow:From /home/m73/miniconda3/envs/py37/lib/python3.7/site-packages/stable_baselines/common/input.py:25: The name tf.placeholder is deprecated. Please use tf.compat.v1.placeholder instead.\n",
      "\n",
      "WARNING:tensorflow:From /home/m73/miniconda3/envs/py37/lib/python3.7/site-packages/stable_baselines/common/policies.py:420: flatten (from tensorflow.python.layers.core) is deprecated and will be removed in a future version.\n",
      "Instructions for updating:\n",
      "Use keras.layers.flatten instead.\n",
      "WARNING:tensorflow:From /home/m73/miniconda3/envs/py37/lib/python3.7/site-packages/tensorflow_core/python/layers/core.py:332: Layer.apply (from tensorflow.python.keras.engine.base_layer) is deprecated and will be removed in a future version.\n",
      "Instructions for updating:\n",
      "Please use `layer.__call__` method instead.\n",
      "WARNING:tensorflow:From /home/m73/miniconda3/envs/py37/lib/python3.7/site-packages/stable_baselines/common/tf_layers.py:123: The name tf.get_variable is deprecated. Please use tf.compat.v1.get_variable instead.\n",
      "\n",
      "WARNING:tensorflow:From /home/m73/miniconda3/envs/py37/lib/python3.7/site-packages/stable_baselines/common/distributions.py:326: The name tf.random_uniform is deprecated. Please use tf.random.uniform instead.\n",
      "\n",
      "WARNING:tensorflow:From /home/m73/miniconda3/envs/py37/lib/python3.7/site-packages/stable_baselines/common/distributions.py:327: The name tf.log is deprecated. Please use tf.math.log instead.\n",
      "\n",
      "WARNING:tensorflow:From /home/m73/miniconda3/envs/py37/lib/python3.7/site-packages/stable_baselines/a2c/a2c.py:160: The name tf.summary.scalar is deprecated. Please use tf.compat.v1.summary.scalar instead.\n",
      "\n",
      "WARNING:tensorflow:From /home/m73/miniconda3/envs/py37/lib/python3.7/site-packages/stable_baselines/common/tf_util.py:449: The name tf.get_collection is deprecated. Please use tf.compat.v1.get_collection instead.\n",
      "\n",
      "WARNING:tensorflow:From /home/m73/miniconda3/envs/py37/lib/python3.7/site-packages/stable_baselines/common/tf_util.py:449: The name tf.GraphKeys is deprecated. Please use tf.compat.v1.GraphKeys instead.\n",
      "\n",
      "WARNING:tensorflow:From /home/m73/miniconda3/envs/py37/lib/python3.7/site-packages/tensorflow_core/python/ops/clip_ops.py:301: where (from tensorflow.python.ops.array_ops) is deprecated and will be removed in a future version.\n",
      "Instructions for updating:\n",
      "Use tf.where in 2.0, which has the same broadcast rule as np.where\n",
      "WARNING:tensorflow:From /home/m73/miniconda3/envs/py37/lib/python3.7/site-packages/stable_baselines/a2c/a2c.py:184: The name tf.train.RMSPropOptimizer is deprecated. Please use tf.compat.v1.train.RMSPropOptimizer instead.\n",
      "\n",
      "WARNING:tensorflow:From /home/m73/miniconda3/envs/py37/lib/python3.7/site-packages/tensorflow_core/python/training/rmsprop.py:119: calling Ones.__init__ (from tensorflow.python.ops.init_ops) with dtype is deprecated and will be removed in a future version.\n",
      "Instructions for updating:\n",
      "Call initializer instance with the dtype argument instead of passing it to the constructor\n",
      "WARNING:tensorflow:From /home/m73/miniconda3/envs/py37/lib/python3.7/site-packages/stable_baselines/a2c/a2c.py:194: The name tf.global_variables_initializer is deprecated. Please use tf.compat.v1.global_variables_initializer instead.\n",
      "\n",
      "WARNING:tensorflow:From /home/m73/miniconda3/envs/py37/lib/python3.7/site-packages/stable_baselines/a2c/a2c.py:196: The name tf.summary.merge_all is deprecated. Please use tf.compat.v1.summary.merge_all instead.\n",
      "\n",
      "info: {'total_reward': -0.9400014877319336, 'total_profit': 0.3488611828636671, 'position': 0}\n"
     ]
    },
    {
     "data": {
      "image/png": "[encoded data removed]",
      "text/plain": [
       "<Figure size 1152x432 with 1 Axes>"
      ]
     },
     "metadata": {
      "needs_background": "light"
     },
     "output_type": "display_data"
    },
    {
     "ename": "TypeError",
     "evalue": "float() argument must be a string or a number, not 'dict'",
     "output_type": "error",
     "traceback": [
      "\u001b[0;31m---------------------------------------------------------------------------\u001b[0m",
      "\u001b[0;31mTypeError\u001b[0m                                 Traceback (most recent call last)",
      "\u001b[0;32m<ipython-input-14-b81c6239643e>\u001b[0m in \u001b[0;36m<module>\u001b[0;34m\u001b[0m\n\u001b[1;32m     60\u001b[0m                 \u001b[0mreturns\u001b[0m \u001b[0;34m=\u001b[0m \u001b[0mnet_worth\u001b[0m\u001b[0;34m.\u001b[0m\u001b[0mpct_change\u001b[0m\u001b[0;34m(\u001b[0m\u001b[0;34m)\u001b[0m\u001b[0;34m.\u001b[0m\u001b[0miloc\u001b[0m\u001b[0;34m[\u001b[0m\u001b[0;36m1\u001b[0m\u001b[0;34m:\u001b[0m\u001b[0;34m]\u001b[0m\u001b[0;34m\u001b[0m\u001b[0;34m\u001b[0m\u001b[0m\n\u001b[1;32m     61\u001b[0m \u001b[0;34m\u001b[0m\u001b[0m\n\u001b[0;32m---> 62\u001b[0;31m                 \u001b[0mbucket\u001b[0m\u001b[0;34m[\u001b[0m\u001b[0mstock_idx\u001b[0m\u001b[0;34m,\u001b[0m \u001b[0malgo_idx\u001b[0m\u001b[0;34m,\u001b[0m \u001b[0mday_idx\u001b[0m\u001b[0;34m,\u001b[0m \u001b[0mstep_idx\u001b[0m\u001b[0;34m]\u001b[0m \u001b[0;34m=\u001b[0m \u001b[0mget_metrics\u001b[0m\u001b[0;34m(\u001b[0m\u001b[0mreturns\u001b[0m\u001b[0;34m)\u001b[0m\u001b[0;34m\u001b[0m\u001b[0;34m\u001b[0m\u001b[0m\n\u001b[0m",
      "\u001b[0;31mTypeError\u001b[0m: float() argument must be a string or a number, not 'dict'"
     ]
    }
   ],
   "source": [
    "for stock_idx, stock in enumerate(stocks):\n",
    "    for algo_idx, algo in enumerate(algos):\n",
    "        for day_idx, end_index in enumerate([300, 1000, 1500]):\n",
    "            for step_idx, steps in enumerate([1000]):\n",
    "                #make env\n",
    "                #(our custom env)\n",
    "                env2 = MyCustomEnv(df=stock, window_size=window_size, frame_bound=(start_index,end_index))\n",
    "                env_maker = lambda: env2\n",
    "\n",
    "                #default environment\n",
    "                #env_maker = lambda: gym.make('stocks-v0', df=amd, frame_bound=(start_index, end_index), window_size=window_size)\n",
    "                env = DummyVecEnv([env_maker])\n",
    "                \n",
    "                #A2C\n",
    "                if algo_idx == 0:\n",
    "                    #train env\n",
    "                    model = algo(env, MlpLstmPolicy)\n",
    "                    model.learn(total_timesteps=steps)\n",
    "                #DQN\n",
    "                elif algo_idx == 1:\n",
    "                    #train env\n",
    "                    model = algo(env, dqnpol)\n",
    "                    model.learn(total_timesteps=steps)\n",
    "                #DDPG\n",
    "                elif algo_idx == 2:\n",
    "                    # the noise objects for DDPG\n",
    "                    n_actions = env.action_space.shape[-1]\n",
    "                    param_noise = None\n",
    "                    action_noise = OrnsteinUhlenbeckActionNoise(mean=np.zeros(n_actions), sigma=float(0.5) * np.ones(n_actions))\n",
    "                    model = algo(env, ddpgpol, param_noise, action_noise)\n",
    "\n",
    "                #test env\n",
    "                env2 = MyCustomEnv(df=stock, window_size=window_size, frame_bound=(end_index,end_index+252))\n",
    "                env_maker = lambda: env2\n",
    "                env = env_maker()\n",
    "                observation = env.reset()\n",
    "\n",
    "                while True:\n",
    "                    observation = observation[np.newaxis, ...]\n",
    "                    action, _states = model.predict(observation)\n",
    "                    observation, reward, done, info = env.step(action)\n",
    "\n",
    "                    if done:\n",
    "                        print(\"info:\", info)\n",
    "                        break\n",
    "\n",
    "                #save transaction results\n",
    "#                 days = end_index\n",
    "#                 fname = pathify(\"amd\", \"a2c\", \"mlplstm\", days, steps, kind=\"transaction\")\n",
    "                \n",
    "                plt.figure(figsize=(16, 6))\n",
    "                env.render_all()\n",
    "                plt.show()\n",
    "                #env.save_rendering(fname)\n",
    "\n",
    "                #get returns and get analysis\n",
    "                qs.extend_pandas()\n",
    "                net_worth = pd.Series(env.history['total_profit'], index=amd.index[end_index+1:end_index+252]) \n",
    "                #<- note the indexes are of the evaluated year                                        ^\n",
    "                returns = net_worth.pct_change().iloc[1:]\n",
    "\n",
    "                bucket[stock_idx, algo_idx, day_idx, step_idx] = get_metrics(returns)"
   ]
  },
  {
   "cell_type": "code",
   "execution_count": null,
   "id": "5c5407af",
   "metadata": {},
   "outputs": [],
   "source": [
    "bucket"
   ]
  },
  {
   "cell_type": "code",
   "execution_count": 15,
   "id": "7c4b5023",
   "metadata": {},
   "outputs": [
    {
     "data": {
      "text/plain": [
       "0"
      ]
     },
     "execution_count": 15,
     "metadata": {},
     "output_type": "execute_result"
    }
   ],
   "source": [
    "stock_idx"
   ]
  },
  {
   "cell_type": "code",
   "execution_count": 16,
   "id": "1052a044",
   "metadata": {},
   "outputs": [
    {
     "data": {
      "text/plain": [
       "0"
      ]
     },
     "execution_count": 16,
     "metadata": {},
     "output_type": "execute_result"
    }
   ],
   "source": [
    "algo_idx"
   ]
  },
  {
   "cell_type": "code",
   "execution_count": 17,
   "id": "87eb9b7b",
   "metadata": {},
   "outputs": [
    {
     "data": {
      "text/plain": [
       "0"
      ]
     },
     "execution_count": 17,
     "metadata": {},
     "output_type": "execute_result"
    }
   ],
   "source": [
    "day_idx"
   ]
  },
  {
   "cell_type": "code",
   "execution_count": 18,
   "id": "a2407d78",
   "metadata": {},
   "outputs": [
    {
     "data": {
      "text/plain": [
       "0"
      ]
     },
     "execution_count": 18,
     "metadata": {},
     "output_type": "execute_result"
    }
   ],
   "source": [
    "step_idx"
   ]
  },
  {
   "cell_type": "code",
   "execution_count": 20,
   "id": "4aad2bc1",
   "metadata": {},
   "outputs": [],
   "source": [
    "a = get_metrics(returns)"
   ]
  },
  {
   "cell_type": "code",
   "execution_count": 21,
   "id": "232e67bc",
   "metadata": {},
   "outputs": [
    {
     "data": {
      "text/plain": [
       "{'ex_returns': -0.004203465374902793,\n",
       " 'best': 0.1549559896819095,\n",
       " 'worst': -0.12180950089540987,\n",
       " 'avg_return': -0.01671269744454839,\n",
       " 'vola': 0.36051220406753315,\n",
       " 'sharpe': -2.7570149670605666,\n",
       " 'rar': -2.7341840490708385,\n",
       " 'ror': 4.063727044901233e-65,\n",
       " 'moly_returns':            JAN       FEB       MAR       APR       MAY       JUN       JUL  \\\n",
       " 2011  0.000000  0.000000 -0.003375 -0.059162 -0.004765 -0.187898 -0.158475   \n",
       " 2012 -0.054508 -0.032888  0.024038  0.000000  0.000000  0.000000  0.000000   \n",
       " \n",
       "            AUG       SEP       OCT       NOV       DEC       EOY  \n",
       " 2011 -0.197716 -0.065069  0.013444 -0.135645 -0.110897 -0.929011  \n",
       " 2012  0.000000  0.000000  0.000000  0.000000  0.000000 -0.057038  }"
      ]
     },
     "execution_count": 21,
     "metadata": {},
     "output_type": "execute_result"
    }
   ],
   "source": [
    "a"
   ]
  },
  {
   "cell_type": "code",
   "execution_count": 37,
   "id": "3546dd8d",
   "metadata": {},
   "outputs": [],
   "source": [
    "names = [n for n in a]\n",
    "formats = ['f8','f8', 'f8','f8','f8','f8', 'f8','f8']\n",
    "dtype = dict(names = names, formats=formats)"
   ]
  },
  {
   "cell_type": "code",
   "execution_count": 42,
   "id": "d9e3e228",
   "metadata": {},
   "outputs": [
    {
     "data": {
      "text/plain": [
       "['ex_returns', 'best', 'worst', 'avg_return', 'vola', 'sharpe', 'rar', 'ror']"
      ]
     },
     "execution_count": 42,
     "metadata": {},
     "output_type": "execute_result"
    }
   ],
   "source": [
    "names.pop()\n",
    "names"
   ]
  },
  {
   "cell_type": "code",
   "execution_count": 43,
   "id": "b27654f3",
   "metadata": {},
   "outputs": [
    {
     "ename": "ValueError",
     "evalue": "could not assign tuple of length 2 to structure with 8 fields.",
     "output_type": "error",
     "traceback": [
      "\u001b[0;31m---------------------------------------------------------------------------\u001b[0m",
      "\u001b[0;31mValueError\u001b[0m                                Traceback (most recent call last)",
      "\u001b[0;32m<ipython-input-43-1aecf82a8192>\u001b[0m in \u001b[0;36m<module>\u001b[0;34m\u001b[0m\n\u001b[0;32m----> 1\u001b[0;31m \u001b[0mnp\u001b[0m\u001b[0;34m.\u001b[0m\u001b[0mfromiter\u001b[0m\u001b[0;34m(\u001b[0m\u001b[0ma\u001b[0m\u001b[0;34m.\u001b[0m\u001b[0mitems\u001b[0m\u001b[0;34m(\u001b[0m\u001b[0;34m)\u001b[0m\u001b[0;34m,\u001b[0m \u001b[0mdtype\u001b[0m\u001b[0;34m=\u001b[0m\u001b[0mdtype\u001b[0m\u001b[0;34m,\u001b[0m \u001b[0mcount\u001b[0m\u001b[0;34m=\u001b[0m\u001b[0mlen\u001b[0m\u001b[0;34m(\u001b[0m\u001b[0ma\u001b[0m\u001b[0;34m)\u001b[0m\u001b[0;34m)\u001b[0m\u001b[0;34m\u001b[0m\u001b[0;34m\u001b[0m\u001b[0m\n\u001b[0m",
      "\u001b[0;31mValueError\u001b[0m: could not assign tuple of length 2 to structure with 8 fields."
     ]
    }
   ],
   "source": [
    "np.fromiter(a.items(), dtype=dtype, count=len(a))"
   ]
  },
  {
   "cell_type": "code",
   "execution_count": 44,
   "id": "f85a0a0f",
   "metadata": {},
   "outputs": [
    {
     "ename": "ValueError",
     "evalue": "could not assign tuple of length 2 to structure with 8 fields.",
     "output_type": "error",
     "traceback": [
      "\u001b[0;31m---------------------------------------------------------------------------\u001b[0m",
      "\u001b[0;31mValueError\u001b[0m                                Traceback (most recent call last)",
      "\u001b[0;32m<ipython-input-44-65d75d69a4ef>\u001b[0m in \u001b[0;36m<module>\u001b[0;34m\u001b[0m\n\u001b[0;32m----> 1\u001b[0;31m \u001b[0mnp\u001b[0m\u001b[0;34m.\u001b[0m\u001b[0marray\u001b[0m\u001b[0;34m(\u001b[0m\u001b[0mlist\u001b[0m\u001b[0;34m(\u001b[0m\u001b[0ma\u001b[0m\u001b[0;34m.\u001b[0m\u001b[0mitems\u001b[0m\u001b[0;34m(\u001b[0m\u001b[0;34m)\u001b[0m\u001b[0;34m)\u001b[0m\u001b[0;34m,\u001b[0m \u001b[0mdtype\u001b[0m\u001b[0;34m=\u001b[0m\u001b[0mdtype\u001b[0m\u001b[0;34m)\u001b[0m\u001b[0;34m\u001b[0m\u001b[0;34m\u001b[0m\u001b[0m\n\u001b[0m",
      "\u001b[0;31mValueError\u001b[0m: could not assign tuple of length 2 to structure with 8 fields."
     ]
    }
   ],
   "source": [
    "np.array(list(a.items()), dtype=dtype)"
   ]
  },
  {
   "cell_type": "code",
   "execution_count": null,
   "id": "3cc27131",
   "metadata": {},
   "outputs": [],
   "source": []
  },
  {
   "cell_type": "code",
   "execution_count": null,
   "id": "dbf572d4",
   "metadata": {},
   "outputs": [],
   "source": []
  },
  {
   "cell_type": "code",
   "execution_count": null,
   "id": "96dd4e30",
   "metadata": {},
   "outputs": [],
   "source": []
  },
  {
   "cell_type": "code",
   "execution_count": null,
   "id": "c511e97c",
   "metadata": {},
   "outputs": [],
   "source": []
  },
  {
   "cell_type": "code",
   "execution_count": null,
   "id": "28343348",
   "metadata": {},
   "outputs": [],
   "source": []
  },
  {
   "cell_type": "code",
   "execution_count": null,
   "id": "580cdc94",
   "metadata": {},
   "outputs": [],
   "source": []
  },
  {
   "cell_type": "code",
   "execution_count": null,
   "id": "b6b691b1",
   "metadata": {},
   "outputs": [],
   "source": []
  },
  {
   "cell_type": "code",
   "execution_count": null,
   "id": "b65bc9c8",
   "metadata": {},
   "outputs": [],
   "source": []
  },
  {
   "cell_type": "code",
   "execution_count": null,
   "id": "063003d5",
   "metadata": {},
   "outputs": [],
   "source": []
  },
  {
   "cell_type": "code",
   "execution_count": null,
   "id": "0c8937e5",
   "metadata": {},
   "outputs": [],
   "source": []
  },
  {
   "cell_type": "code",
   "execution_count": null,
   "id": "6e372adf",
   "metadata": {},
   "outputs": [],
   "source": []
  },
  {
   "cell_type": "code",
   "execution_count": null,
   "id": "cc7c9763",
   "metadata": {},
   "outputs": [],
   "source": []
  },
  {
   "cell_type": "code",
   "execution_count": null,
   "id": "fc60e53d",
   "metadata": {},
   "outputs": [],
   "source": []
  },
  {
   "cell_type": "code",
   "execution_count": null,
   "id": "cc758a95",
   "metadata": {},
   "outputs": [],
   "source": []
  },
  {
   "cell_type": "code",
   "execution_count": null,
   "id": "ffe2df4b",
   "metadata": {},
   "outputs": [],
   "source": []
  },
  {
   "cell_type": "code",
   "execution_count": null,
   "id": "5b704f53",
   "metadata": {},
   "outputs": [],
   "source": []
  },
  {
   "cell_type": "code",
   "execution_count": null,
   "id": "685a53f8",
   "metadata": {},
   "outputs": [],
   "source": []
  }
 ],
 "metadata": {
  "kernelspec": {
   "display_name": "Python 3",
   "language": "python",
   "name": "python3"
  },
  "language_info": {
   "codemirror_mode": {
    "name": "ipython",
    "version": 3
   },
   "file_extension": ".py",
   "mimetype": "text/x-python",
   "name": "python",
   "nbconvert_exporter": "python",
   "pygments_lexer": "ipython3",
   "version": "3.7.10"
  }
 },
 "nbformat": 4,
 "nbformat_minor": 5
}
